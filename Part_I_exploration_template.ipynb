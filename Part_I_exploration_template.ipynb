{
 "cells": [
  {
   "cell_type": "markdown",
   "metadata": {},
   "source": [
    "# Part I : Airline Passenger Satisfaction \n",
    "\n",
    "\n",
    "## by Ozurumba Chioma\n",
    "\n",
    "\n",
    "\n",
    "## Introduction\n",
    "\n",
    "\n",
    "The dataset for this project is gotten from Kaggle. It has an airline satisfaction scores for 129,880 passengers, where each record represents one passenger. The dataset consists of passenger's records such as Age, Gender, Travel class, Arrival and Departure delays etc and also factors that affect customer satisfaction such as Cleanliness, Seat comfort, Baggage etc\n",
    "\n",
    "\n",
    "\n",
    "\n",
    "## Preliminary Wrangling\n"
   ]
  },
  {
   "cell_type": "code",
   "execution_count": 90,
   "metadata": {},
   "outputs": [],
   "source": [
    "# import necessary packages \n",
    "import numpy as np\n",
    "import pandas as pd\n",
    "import matplotlib.pyplot as plt\n",
    "import seaborn as sb\n",
    "\n",
    "%matplotlib inline"
   ]
  },
  {
   "cell_type": "code",
   "execution_count": 91,
   "metadata": {},
   "outputs": [],
   "source": [
    "# Load the Dataset\n",
    "df = pd.read_csv('airline_passenger_satisfaction.csv')"
   ]
  },
  {
   "cell_type": "markdown",
   "metadata": {},
   "source": [
    "## Assessing Data"
   ]
  },
  {
   "cell_type": "code",
   "execution_count": 92,
   "metadata": {},
   "outputs": [
    {
     "data": {
      "text/html": [
       "<div>\n",
       "<style scoped>\n",
       "    .dataframe tbody tr th:only-of-type {\n",
       "        vertical-align: middle;\n",
       "    }\n",
       "\n",
       "    .dataframe tbody tr th {\n",
       "        vertical-align: top;\n",
       "    }\n",
       "\n",
       "    .dataframe thead th {\n",
       "        text-align: right;\n",
       "    }\n",
       "</style>\n",
       "<table border=\"1\" class=\"dataframe\">\n",
       "  <thead>\n",
       "    <tr style=\"text-align: right;\">\n",
       "      <th></th>\n",
       "      <th>ID</th>\n",
       "      <th>Gender</th>\n",
       "      <th>Age</th>\n",
       "      <th>Customer Type</th>\n",
       "      <th>Type of Travel</th>\n",
       "      <th>Class</th>\n",
       "      <th>Flight Distance</th>\n",
       "      <th>Departure Delay</th>\n",
       "      <th>Arrival Delay</th>\n",
       "      <th>Departure and Arrival Time Convenience</th>\n",
       "      <th>...</th>\n",
       "      <th>On-board Service</th>\n",
       "      <th>Seat Comfort</th>\n",
       "      <th>Leg Room Service</th>\n",
       "      <th>Cleanliness</th>\n",
       "      <th>Food and Drink</th>\n",
       "      <th>In-flight Service</th>\n",
       "      <th>In-flight Wifi Service</th>\n",
       "      <th>In-flight Entertainment</th>\n",
       "      <th>Baggage Handling</th>\n",
       "      <th>Satisfaction</th>\n",
       "    </tr>\n",
       "  </thead>\n",
       "  <tbody>\n",
       "    <tr>\n",
       "      <th>0</th>\n",
       "      <td>1</td>\n",
       "      <td>Male</td>\n",
       "      <td>48</td>\n",
       "      <td>First-time</td>\n",
       "      <td>Business</td>\n",
       "      <td>Business</td>\n",
       "      <td>821</td>\n",
       "      <td>2</td>\n",
       "      <td>5.0</td>\n",
       "      <td>3</td>\n",
       "      <td>...</td>\n",
       "      <td>3</td>\n",
       "      <td>5</td>\n",
       "      <td>2</td>\n",
       "      <td>5</td>\n",
       "      <td>5</td>\n",
       "      <td>5</td>\n",
       "      <td>3</td>\n",
       "      <td>5</td>\n",
       "      <td>5</td>\n",
       "      <td>Neutral or Dissatisfied</td>\n",
       "    </tr>\n",
       "    <tr>\n",
       "      <th>1</th>\n",
       "      <td>2</td>\n",
       "      <td>Female</td>\n",
       "      <td>35</td>\n",
       "      <td>Returning</td>\n",
       "      <td>Business</td>\n",
       "      <td>Business</td>\n",
       "      <td>821</td>\n",
       "      <td>26</td>\n",
       "      <td>39.0</td>\n",
       "      <td>2</td>\n",
       "      <td>...</td>\n",
       "      <td>5</td>\n",
       "      <td>4</td>\n",
       "      <td>5</td>\n",
       "      <td>5</td>\n",
       "      <td>3</td>\n",
       "      <td>5</td>\n",
       "      <td>2</td>\n",
       "      <td>5</td>\n",
       "      <td>5</td>\n",
       "      <td>Satisfied</td>\n",
       "    </tr>\n",
       "    <tr>\n",
       "      <th>2</th>\n",
       "      <td>3</td>\n",
       "      <td>Male</td>\n",
       "      <td>41</td>\n",
       "      <td>Returning</td>\n",
       "      <td>Business</td>\n",
       "      <td>Business</td>\n",
       "      <td>853</td>\n",
       "      <td>0</td>\n",
       "      <td>0.0</td>\n",
       "      <td>4</td>\n",
       "      <td>...</td>\n",
       "      <td>3</td>\n",
       "      <td>5</td>\n",
       "      <td>3</td>\n",
       "      <td>5</td>\n",
       "      <td>5</td>\n",
       "      <td>3</td>\n",
       "      <td>4</td>\n",
       "      <td>3</td>\n",
       "      <td>3</td>\n",
       "      <td>Satisfied</td>\n",
       "    </tr>\n",
       "    <tr>\n",
       "      <th>3</th>\n",
       "      <td>4</td>\n",
       "      <td>Male</td>\n",
       "      <td>50</td>\n",
       "      <td>Returning</td>\n",
       "      <td>Business</td>\n",
       "      <td>Business</td>\n",
       "      <td>1905</td>\n",
       "      <td>0</td>\n",
       "      <td>0.0</td>\n",
       "      <td>2</td>\n",
       "      <td>...</td>\n",
       "      <td>5</td>\n",
       "      <td>5</td>\n",
       "      <td>5</td>\n",
       "      <td>4</td>\n",
       "      <td>4</td>\n",
       "      <td>5</td>\n",
       "      <td>2</td>\n",
       "      <td>5</td>\n",
       "      <td>5</td>\n",
       "      <td>Satisfied</td>\n",
       "    </tr>\n",
       "    <tr>\n",
       "      <th>4</th>\n",
       "      <td>5</td>\n",
       "      <td>Female</td>\n",
       "      <td>49</td>\n",
       "      <td>Returning</td>\n",
       "      <td>Business</td>\n",
       "      <td>Business</td>\n",
       "      <td>3470</td>\n",
       "      <td>0</td>\n",
       "      <td>1.0</td>\n",
       "      <td>3</td>\n",
       "      <td>...</td>\n",
       "      <td>3</td>\n",
       "      <td>4</td>\n",
       "      <td>4</td>\n",
       "      <td>5</td>\n",
       "      <td>4</td>\n",
       "      <td>3</td>\n",
       "      <td>3</td>\n",
       "      <td>3</td>\n",
       "      <td>3</td>\n",
       "      <td>Satisfied</td>\n",
       "    </tr>\n",
       "  </tbody>\n",
       "</table>\n",
       "<p>5 rows × 24 columns</p>\n",
       "</div>"
      ],
      "text/plain": [
       "   ID  Gender  Age Customer Type Type of Travel     Class  Flight Distance  \\\n",
       "0   1    Male   48    First-time       Business  Business              821   \n",
       "1   2  Female   35     Returning       Business  Business              821   \n",
       "2   3    Male   41     Returning       Business  Business              853   \n",
       "3   4    Male   50     Returning       Business  Business             1905   \n",
       "4   5  Female   49     Returning       Business  Business             3470   \n",
       "\n",
       "   Departure Delay  Arrival Delay  Departure and Arrival Time Convenience  \\\n",
       "0                2            5.0                                       3   \n",
       "1               26           39.0                                       2   \n",
       "2                0            0.0                                       4   \n",
       "3                0            0.0                                       2   \n",
       "4                0            1.0                                       3   \n",
       "\n",
       "   ...  On-board Service  Seat Comfort  Leg Room Service  Cleanliness  \\\n",
       "0  ...                 3             5                 2            5   \n",
       "1  ...                 5             4                 5            5   \n",
       "2  ...                 3             5                 3            5   \n",
       "3  ...                 5             5                 5            4   \n",
       "4  ...                 3             4                 4            5   \n",
       "\n",
       "   Food and Drink  In-flight Service  In-flight Wifi Service  \\\n",
       "0               5                  5                       3   \n",
       "1               3                  5                       2   \n",
       "2               5                  3                       4   \n",
       "3               4                  5                       2   \n",
       "4               4                  3                       3   \n",
       "\n",
       "   In-flight Entertainment  Baggage Handling             Satisfaction  \n",
       "0                        5                 5  Neutral or Dissatisfied  \n",
       "1                        5                 5                Satisfied  \n",
       "2                        3                 3                Satisfied  \n",
       "3                        5                 5                Satisfied  \n",
       "4                        3                 3                Satisfied  \n",
       "\n",
       "[5 rows x 24 columns]"
      ]
     },
     "execution_count": 92,
     "metadata": {},
     "output_type": "execute_result"
    }
   ],
   "source": [
    "# Visually assessing data\n",
    "df.head()\n"
   ]
  },
  {
   "cell_type": "code",
   "execution_count": 93,
   "metadata": {},
   "outputs": [
    {
     "data": {
      "text/html": [
       "<div>\n",
       "<style scoped>\n",
       "    .dataframe tbody tr th:only-of-type {\n",
       "        vertical-align: middle;\n",
       "    }\n",
       "\n",
       "    .dataframe tbody tr th {\n",
       "        vertical-align: top;\n",
       "    }\n",
       "\n",
       "    .dataframe thead th {\n",
       "        text-align: right;\n",
       "    }\n",
       "</style>\n",
       "<table border=\"1\" class=\"dataframe\">\n",
       "  <thead>\n",
       "    <tr style=\"text-align: right;\">\n",
       "      <th></th>\n",
       "      <th>ID</th>\n",
       "      <th>Gender</th>\n",
       "      <th>Age</th>\n",
       "      <th>Customer Type</th>\n",
       "      <th>Type of Travel</th>\n",
       "      <th>Class</th>\n",
       "      <th>Flight Distance</th>\n",
       "      <th>Departure Delay</th>\n",
       "      <th>Arrival Delay</th>\n",
       "      <th>Departure and Arrival Time Convenience</th>\n",
       "      <th>...</th>\n",
       "      <th>On-board Service</th>\n",
       "      <th>Seat Comfort</th>\n",
       "      <th>Leg Room Service</th>\n",
       "      <th>Cleanliness</th>\n",
       "      <th>Food and Drink</th>\n",
       "      <th>In-flight Service</th>\n",
       "      <th>In-flight Wifi Service</th>\n",
       "      <th>In-flight Entertainment</th>\n",
       "      <th>Baggage Handling</th>\n",
       "      <th>Satisfaction</th>\n",
       "    </tr>\n",
       "  </thead>\n",
       "  <tbody>\n",
       "    <tr>\n",
       "      <th>129875</th>\n",
       "      <td>129876</td>\n",
       "      <td>Male</td>\n",
       "      <td>28</td>\n",
       "      <td>Returning</td>\n",
       "      <td>Personal</td>\n",
       "      <td>Economy Plus</td>\n",
       "      <td>447</td>\n",
       "      <td>2</td>\n",
       "      <td>3.0</td>\n",
       "      <td>4</td>\n",
       "      <td>...</td>\n",
       "      <td>5</td>\n",
       "      <td>1</td>\n",
       "      <td>4</td>\n",
       "      <td>4</td>\n",
       "      <td>4</td>\n",
       "      <td>5</td>\n",
       "      <td>4</td>\n",
       "      <td>4</td>\n",
       "      <td>4</td>\n",
       "      <td>Neutral or Dissatisfied</td>\n",
       "    </tr>\n",
       "    <tr>\n",
       "      <th>129876</th>\n",
       "      <td>129877</td>\n",
       "      <td>Male</td>\n",
       "      <td>41</td>\n",
       "      <td>Returning</td>\n",
       "      <td>Personal</td>\n",
       "      <td>Economy Plus</td>\n",
       "      <td>308</td>\n",
       "      <td>0</td>\n",
       "      <td>0.0</td>\n",
       "      <td>5</td>\n",
       "      <td>...</td>\n",
       "      <td>5</td>\n",
       "      <td>2</td>\n",
       "      <td>5</td>\n",
       "      <td>2</td>\n",
       "      <td>2</td>\n",
       "      <td>4</td>\n",
       "      <td>3</td>\n",
       "      <td>2</td>\n",
       "      <td>5</td>\n",
       "      <td>Neutral or Dissatisfied</td>\n",
       "    </tr>\n",
       "    <tr>\n",
       "      <th>129877</th>\n",
       "      <td>129878</td>\n",
       "      <td>Male</td>\n",
       "      <td>42</td>\n",
       "      <td>Returning</td>\n",
       "      <td>Personal</td>\n",
       "      <td>Economy Plus</td>\n",
       "      <td>337</td>\n",
       "      <td>6</td>\n",
       "      <td>14.0</td>\n",
       "      <td>5</td>\n",
       "      <td>...</td>\n",
       "      <td>3</td>\n",
       "      <td>3</td>\n",
       "      <td>4</td>\n",
       "      <td>3</td>\n",
       "      <td>3</td>\n",
       "      <td>4</td>\n",
       "      <td>2</td>\n",
       "      <td>3</td>\n",
       "      <td>5</td>\n",
       "      <td>Neutral or Dissatisfied</td>\n",
       "    </tr>\n",
       "    <tr>\n",
       "      <th>129878</th>\n",
       "      <td>129879</td>\n",
       "      <td>Male</td>\n",
       "      <td>50</td>\n",
       "      <td>Returning</td>\n",
       "      <td>Personal</td>\n",
       "      <td>Economy Plus</td>\n",
       "      <td>337</td>\n",
       "      <td>31</td>\n",
       "      <td>22.0</td>\n",
       "      <td>4</td>\n",
       "      <td>...</td>\n",
       "      <td>4</td>\n",
       "      <td>4</td>\n",
       "      <td>5</td>\n",
       "      <td>3</td>\n",
       "      <td>3</td>\n",
       "      <td>4</td>\n",
       "      <td>5</td>\n",
       "      <td>3</td>\n",
       "      <td>5</td>\n",
       "      <td>Satisfied</td>\n",
       "    </tr>\n",
       "    <tr>\n",
       "      <th>129879</th>\n",
       "      <td>129880</td>\n",
       "      <td>Female</td>\n",
       "      <td>20</td>\n",
       "      <td>Returning</td>\n",
       "      <td>Personal</td>\n",
       "      <td>Economy Plus</td>\n",
       "      <td>337</td>\n",
       "      <td>0</td>\n",
       "      <td>0.0</td>\n",
       "      <td>1</td>\n",
       "      <td>...</td>\n",
       "      <td>4</td>\n",
       "      <td>2</td>\n",
       "      <td>4</td>\n",
       "      <td>2</td>\n",
       "      <td>2</td>\n",
       "      <td>2</td>\n",
       "      <td>3</td>\n",
       "      <td>2</td>\n",
       "      <td>1</td>\n",
       "      <td>Neutral or Dissatisfied</td>\n",
       "    </tr>\n",
       "  </tbody>\n",
       "</table>\n",
       "<p>5 rows × 24 columns</p>\n",
       "</div>"
      ],
      "text/plain": [
       "            ID  Gender  Age Customer Type Type of Travel         Class  \\\n",
       "129875  129876    Male   28     Returning       Personal  Economy Plus   \n",
       "129876  129877    Male   41     Returning       Personal  Economy Plus   \n",
       "129877  129878    Male   42     Returning       Personal  Economy Plus   \n",
       "129878  129879    Male   50     Returning       Personal  Economy Plus   \n",
       "129879  129880  Female   20     Returning       Personal  Economy Plus   \n",
       "\n",
       "        Flight Distance  Departure Delay  Arrival Delay  \\\n",
       "129875              447                2            3.0   \n",
       "129876              308                0            0.0   \n",
       "129877              337                6           14.0   \n",
       "129878              337               31           22.0   \n",
       "129879              337                0            0.0   \n",
       "\n",
       "        Departure and Arrival Time Convenience  ...  On-board Service  \\\n",
       "129875                                       4  ...                 5   \n",
       "129876                                       5  ...                 5   \n",
       "129877                                       5  ...                 3   \n",
       "129878                                       4  ...                 4   \n",
       "129879                                       1  ...                 4   \n",
       "\n",
       "        Seat Comfort  Leg Room Service  Cleanliness  Food and Drink  \\\n",
       "129875             1                 4            4               4   \n",
       "129876             2                 5            2               2   \n",
       "129877             3                 4            3               3   \n",
       "129878             4                 5            3               3   \n",
       "129879             2                 4            2               2   \n",
       "\n",
       "        In-flight Service  In-flight Wifi Service  In-flight Entertainment  \\\n",
       "129875                  5                       4                        4   \n",
       "129876                  4                       3                        2   \n",
       "129877                  4                       2                        3   \n",
       "129878                  4                       5                        3   \n",
       "129879                  2                       3                        2   \n",
       "\n",
       "        Baggage Handling             Satisfaction  \n",
       "129875                 4  Neutral or Dissatisfied  \n",
       "129876                 5  Neutral or Dissatisfied  \n",
       "129877                 5  Neutral or Dissatisfied  \n",
       "129878                 5                Satisfied  \n",
       "129879                 1  Neutral or Dissatisfied  \n",
       "\n",
       "[5 rows x 24 columns]"
      ]
     },
     "execution_count": 93,
     "metadata": {},
     "output_type": "execute_result"
    }
   ],
   "source": [
    "df.tail()"
   ]
  },
  {
   "cell_type": "markdown",
   "metadata": {},
   "source": [
    "## Column Description:"
   ]
  },
  {
   "cell_type": "markdown",
   "metadata": {},
   "source": [
    "Customer ID - Unique passenger identifier\n",
    "\n",
    "Gender - Gender of the passenger (Female/Male)\n",
    "\n",
    "Age - Age of the passenger\n",
    "\n",
    "Customer Type - Type of airline customer (First-time/Returning)\n",
    "\n",
    "Type of Travel - Purpose of the flight (Business/Personal)\n",
    "\n",
    "Class - Travel class in the airplane for the passenger seat\n",
    "\n",
    "Flight Distance - Flight distance in miles\n",
    "\n",
    "Departure Delay - Flight departure delay in minutes\n",
    "\n",
    "Arrival Delay - Flight arrival delay in minutes\n",
    "\n",
    "Departure and Arrival Time Convenience - Satisfaction level with the convenience of the flight departure and arrival times from 1 (lowest) to 5 (highest) - 0 means \"not applicable\"\n",
    "\n",
    "Ease of Online Booking - Satisfaction level with the online booking experience from 1 (lowest) to 5 (highest) - 0 means \"not applicable\"\n",
    "\n",
    "Check-in Service - Satisfaction level with the check-in service from 1 (lowest) to 5 (highest) - 0 means \"not applicable\"\n",
    "\n",
    "Online Boarding - Satisfaction level with the online boarding experience from 1 (lowest) to 5 (highest) - 0 means \"not applicable\"\n",
    "\n",
    "Gate Location - Satisfaction level with the gate location in the airport from 1 (lowest) to 5 (highest) - 0 means \"not applicable\"\n",
    "\n",
    "On-board Service - Satisfaction level with the on-boarding service in the airport from 1 (lowest) to 5 (highest) - 0 means \"not applicable\"\n",
    "\n",
    "Seat Comfort - Satisfaction level with the comfort of the airplane seat from 1 (lowest) to 5 (highest) - 0 means \"not applicable\"\n",
    "\n",
    "Leg Room Service - Satisfaction level with the leg room of the airplane seat from 1 (lowest) to 5 (highest) - 0 means \"not applicable\"\n",
    "\n",
    "Cleanliness - Satisfaction level with the cleanliness of the airplane from 1 (lowest) to 5 (highest) - 0 means \"not applicable\"\n",
    "\n",
    "Food and Drink - Satisfaction level with the food and drinks on the airplane from 1 (lowest) to 5 (highest) - 0 means \"not applicable\"\n",
    "\n",
    "In-flight Service - Satisfaction level with the in-flight service from 1 (lowest) to 5 (highest) - 0 means \"not applicable\"\n",
    "\n",
    "In-flight Wifi Service - Satisfaction level with the in-flight Wifi service from 1 (lowest) to 5 (highest) - 0 means \"not applicable\"\n",
    "\n",
    "In-flight Entertainment - Satisfaction level with the in-flight entertainment from 1 (lowest) to 5 (highest) - 0 means \"not applicable\"\n",
    "\n",
    "Baggage Handling - Satisfaction level with the baggage handling from the airline from 1 (lowest) to 5 (highest) - 0 means \"not applicable\"\n",
    "\n",
    "Satisfaction - Overall satisfaction level with the airline (Satisfied/Neutral or unsatisfied)"
   ]
  },
  {
   "cell_type": "code",
   "execution_count": 94,
   "metadata": {},
   "outputs": [
    {
     "name": "stdout",
     "output_type": "stream",
     "text": [
      "<class 'pandas.core.frame.DataFrame'>\n",
      "RangeIndex: 129880 entries, 0 to 129879\n",
      "Data columns (total 24 columns):\n",
      " #   Column                                  Non-Null Count   Dtype  \n",
      "---  ------                                  --------------   -----  \n",
      " 0   ID                                      129880 non-null  int64  \n",
      " 1   Gender                                  129880 non-null  object \n",
      " 2   Age                                     129880 non-null  int64  \n",
      " 3   Customer Type                           129880 non-null  object \n",
      " 4   Type of Travel                          129880 non-null  object \n",
      " 5   Class                                   129880 non-null  object \n",
      " 6   Flight Distance                         129880 non-null  int64  \n",
      " 7   Departure Delay                         129880 non-null  int64  \n",
      " 8   Arrival Delay                           129487 non-null  float64\n",
      " 9   Departure and Arrival Time Convenience  129880 non-null  int64  \n",
      " 10  Ease of Online Booking                  129880 non-null  int64  \n",
      " 11  Check-in Service                        129880 non-null  int64  \n",
      " 12  Online Boarding                         129880 non-null  int64  \n",
      " 13  Gate Location                           129880 non-null  int64  \n",
      " 14  On-board Service                        129880 non-null  int64  \n",
      " 15  Seat Comfort                            129880 non-null  int64  \n",
      " 16  Leg Room Service                        129880 non-null  int64  \n",
      " 17  Cleanliness                             129880 non-null  int64  \n",
      " 18  Food and Drink                          129880 non-null  int64  \n",
      " 19  In-flight Service                       129880 non-null  int64  \n",
      " 20  In-flight Wifi Service                  129880 non-null  int64  \n",
      " 21  In-flight Entertainment                 129880 non-null  int64  \n",
      " 22  Baggage Handling                        129880 non-null  int64  \n",
      " 23  Satisfaction                            129880 non-null  object \n",
      "dtypes: float64(1), int64(18), object(5)\n",
      "memory usage: 23.8+ MB\n"
     ]
    }
   ],
   "source": [
    "df.info()"
   ]
  },
  {
   "cell_type": "code",
   "execution_count": 95,
   "metadata": {},
   "outputs": [
    {
     "data": {
      "text/plain": [
       "(129880, 24)"
      ]
     },
     "execution_count": 95,
     "metadata": {},
     "output_type": "execute_result"
    }
   ],
   "source": [
    "# rows and columns\n",
    "df.shape"
   ]
  },
  {
   "cell_type": "code",
   "execution_count": 96,
   "metadata": {},
   "outputs": [
    {
     "data": {
      "text/html": [
       "<div>\n",
       "<style scoped>\n",
       "    .dataframe tbody tr th:only-of-type {\n",
       "        vertical-align: middle;\n",
       "    }\n",
       "\n",
       "    .dataframe tbody tr th {\n",
       "        vertical-align: top;\n",
       "    }\n",
       "\n",
       "    .dataframe thead th {\n",
       "        text-align: right;\n",
       "    }\n",
       "</style>\n",
       "<table border=\"1\" class=\"dataframe\">\n",
       "  <thead>\n",
       "    <tr style=\"text-align: right;\">\n",
       "      <th></th>\n",
       "      <th>ID</th>\n",
       "      <th>Age</th>\n",
       "      <th>Flight Distance</th>\n",
       "      <th>Departure Delay</th>\n",
       "      <th>Arrival Delay</th>\n",
       "      <th>Departure and Arrival Time Convenience</th>\n",
       "      <th>Ease of Online Booking</th>\n",
       "      <th>Check-in Service</th>\n",
       "      <th>Online Boarding</th>\n",
       "      <th>Gate Location</th>\n",
       "      <th>On-board Service</th>\n",
       "      <th>Seat Comfort</th>\n",
       "      <th>Leg Room Service</th>\n",
       "      <th>Cleanliness</th>\n",
       "      <th>Food and Drink</th>\n",
       "      <th>In-flight Service</th>\n",
       "      <th>In-flight Wifi Service</th>\n",
       "      <th>In-flight Entertainment</th>\n",
       "      <th>Baggage Handling</th>\n",
       "    </tr>\n",
       "  </thead>\n",
       "  <tbody>\n",
       "    <tr>\n",
       "      <th>count</th>\n",
       "      <td>129880.000000</td>\n",
       "      <td>129880.000000</td>\n",
       "      <td>129880.000000</td>\n",
       "      <td>129880.000000</td>\n",
       "      <td>129487.000000</td>\n",
       "      <td>129880.000000</td>\n",
       "      <td>129880.000000</td>\n",
       "      <td>129880.000000</td>\n",
       "      <td>129880.000000</td>\n",
       "      <td>129880.000000</td>\n",
       "      <td>129880.000000</td>\n",
       "      <td>129880.000000</td>\n",
       "      <td>129880.000000</td>\n",
       "      <td>129880.000000</td>\n",
       "      <td>129880.000000</td>\n",
       "      <td>129880.000000</td>\n",
       "      <td>129880.000000</td>\n",
       "      <td>129880.000000</td>\n",
       "      <td>129880.000000</td>\n",
       "    </tr>\n",
       "    <tr>\n",
       "      <th>mean</th>\n",
       "      <td>64940.500000</td>\n",
       "      <td>39.427957</td>\n",
       "      <td>1190.316392</td>\n",
       "      <td>14.713713</td>\n",
       "      <td>15.091129</td>\n",
       "      <td>3.057599</td>\n",
       "      <td>2.756876</td>\n",
       "      <td>3.306267</td>\n",
       "      <td>3.252633</td>\n",
       "      <td>2.976925</td>\n",
       "      <td>3.383023</td>\n",
       "      <td>3.441361</td>\n",
       "      <td>3.350878</td>\n",
       "      <td>3.286326</td>\n",
       "      <td>3.204774</td>\n",
       "      <td>3.642193</td>\n",
       "      <td>2.728696</td>\n",
       "      <td>3.358077</td>\n",
       "      <td>3.632114</td>\n",
       "    </tr>\n",
       "    <tr>\n",
       "      <th>std</th>\n",
       "      <td>37493.270818</td>\n",
       "      <td>15.119360</td>\n",
       "      <td>997.452477</td>\n",
       "      <td>38.071126</td>\n",
       "      <td>38.465650</td>\n",
       "      <td>1.526741</td>\n",
       "      <td>1.401740</td>\n",
       "      <td>1.266185</td>\n",
       "      <td>1.350719</td>\n",
       "      <td>1.278520</td>\n",
       "      <td>1.287099</td>\n",
       "      <td>1.319289</td>\n",
       "      <td>1.316252</td>\n",
       "      <td>1.313682</td>\n",
       "      <td>1.329933</td>\n",
       "      <td>1.176669</td>\n",
       "      <td>1.329340</td>\n",
       "      <td>1.334049</td>\n",
       "      <td>1.180025</td>\n",
       "    </tr>\n",
       "    <tr>\n",
       "      <th>min</th>\n",
       "      <td>1.000000</td>\n",
       "      <td>7.000000</td>\n",
       "      <td>31.000000</td>\n",
       "      <td>0.000000</td>\n",
       "      <td>0.000000</td>\n",
       "      <td>0.000000</td>\n",
       "      <td>0.000000</td>\n",
       "      <td>0.000000</td>\n",
       "      <td>0.000000</td>\n",
       "      <td>0.000000</td>\n",
       "      <td>0.000000</td>\n",
       "      <td>0.000000</td>\n",
       "      <td>0.000000</td>\n",
       "      <td>0.000000</td>\n",
       "      <td>0.000000</td>\n",
       "      <td>0.000000</td>\n",
       "      <td>0.000000</td>\n",
       "      <td>0.000000</td>\n",
       "      <td>1.000000</td>\n",
       "    </tr>\n",
       "    <tr>\n",
       "      <th>25%</th>\n",
       "      <td>32470.750000</td>\n",
       "      <td>27.000000</td>\n",
       "      <td>414.000000</td>\n",
       "      <td>0.000000</td>\n",
       "      <td>0.000000</td>\n",
       "      <td>2.000000</td>\n",
       "      <td>2.000000</td>\n",
       "      <td>3.000000</td>\n",
       "      <td>2.000000</td>\n",
       "      <td>2.000000</td>\n",
       "      <td>2.000000</td>\n",
       "      <td>2.000000</td>\n",
       "      <td>2.000000</td>\n",
       "      <td>2.000000</td>\n",
       "      <td>2.000000</td>\n",
       "      <td>3.000000</td>\n",
       "      <td>2.000000</td>\n",
       "      <td>2.000000</td>\n",
       "      <td>3.000000</td>\n",
       "    </tr>\n",
       "    <tr>\n",
       "      <th>50%</th>\n",
       "      <td>64940.500000</td>\n",
       "      <td>40.000000</td>\n",
       "      <td>844.000000</td>\n",
       "      <td>0.000000</td>\n",
       "      <td>0.000000</td>\n",
       "      <td>3.000000</td>\n",
       "      <td>3.000000</td>\n",
       "      <td>3.000000</td>\n",
       "      <td>3.000000</td>\n",
       "      <td>3.000000</td>\n",
       "      <td>4.000000</td>\n",
       "      <td>4.000000</td>\n",
       "      <td>4.000000</td>\n",
       "      <td>3.000000</td>\n",
       "      <td>3.000000</td>\n",
       "      <td>4.000000</td>\n",
       "      <td>3.000000</td>\n",
       "      <td>4.000000</td>\n",
       "      <td>4.000000</td>\n",
       "    </tr>\n",
       "    <tr>\n",
       "      <th>75%</th>\n",
       "      <td>97410.250000</td>\n",
       "      <td>51.000000</td>\n",
       "      <td>1744.000000</td>\n",
       "      <td>12.000000</td>\n",
       "      <td>13.000000</td>\n",
       "      <td>4.000000</td>\n",
       "      <td>4.000000</td>\n",
       "      <td>4.000000</td>\n",
       "      <td>4.000000</td>\n",
       "      <td>4.000000</td>\n",
       "      <td>4.000000</td>\n",
       "      <td>5.000000</td>\n",
       "      <td>4.000000</td>\n",
       "      <td>4.000000</td>\n",
       "      <td>4.000000</td>\n",
       "      <td>5.000000</td>\n",
       "      <td>4.000000</td>\n",
       "      <td>4.000000</td>\n",
       "      <td>5.000000</td>\n",
       "    </tr>\n",
       "    <tr>\n",
       "      <th>max</th>\n",
       "      <td>129880.000000</td>\n",
       "      <td>85.000000</td>\n",
       "      <td>4983.000000</td>\n",
       "      <td>1592.000000</td>\n",
       "      <td>1584.000000</td>\n",
       "      <td>5.000000</td>\n",
       "      <td>5.000000</td>\n",
       "      <td>5.000000</td>\n",
       "      <td>5.000000</td>\n",
       "      <td>5.000000</td>\n",
       "      <td>5.000000</td>\n",
       "      <td>5.000000</td>\n",
       "      <td>5.000000</td>\n",
       "      <td>5.000000</td>\n",
       "      <td>5.000000</td>\n",
       "      <td>5.000000</td>\n",
       "      <td>5.000000</td>\n",
       "      <td>5.000000</td>\n",
       "      <td>5.000000</td>\n",
       "    </tr>\n",
       "  </tbody>\n",
       "</table>\n",
       "</div>"
      ],
      "text/plain": [
       "                  ID            Age  Flight Distance  Departure Delay  \\\n",
       "count  129880.000000  129880.000000    129880.000000    129880.000000   \n",
       "mean    64940.500000      39.427957      1190.316392        14.713713   \n",
       "std     37493.270818      15.119360       997.452477        38.071126   \n",
       "min         1.000000       7.000000        31.000000         0.000000   \n",
       "25%     32470.750000      27.000000       414.000000         0.000000   \n",
       "50%     64940.500000      40.000000       844.000000         0.000000   \n",
       "75%     97410.250000      51.000000      1744.000000        12.000000   \n",
       "max    129880.000000      85.000000      4983.000000      1592.000000   \n",
       "\n",
       "       Arrival Delay  Departure and Arrival Time Convenience  \\\n",
       "count  129487.000000                           129880.000000   \n",
       "mean       15.091129                                3.057599   \n",
       "std        38.465650                                1.526741   \n",
       "min         0.000000                                0.000000   \n",
       "25%         0.000000                                2.000000   \n",
       "50%         0.000000                                3.000000   \n",
       "75%        13.000000                                4.000000   \n",
       "max      1584.000000                                5.000000   \n",
       "\n",
       "       Ease of Online Booking  Check-in Service  Online Boarding  \\\n",
       "count           129880.000000     129880.000000    129880.000000   \n",
       "mean                 2.756876          3.306267         3.252633   \n",
       "std                  1.401740          1.266185         1.350719   \n",
       "min                  0.000000          0.000000         0.000000   \n",
       "25%                  2.000000          3.000000         2.000000   \n",
       "50%                  3.000000          3.000000         3.000000   \n",
       "75%                  4.000000          4.000000         4.000000   \n",
       "max                  5.000000          5.000000         5.000000   \n",
       "\n",
       "       Gate Location  On-board Service   Seat Comfort  Leg Room Service  \\\n",
       "count  129880.000000     129880.000000  129880.000000     129880.000000   \n",
       "mean        2.976925          3.383023       3.441361          3.350878   \n",
       "std         1.278520          1.287099       1.319289          1.316252   \n",
       "min         0.000000          0.000000       0.000000          0.000000   \n",
       "25%         2.000000          2.000000       2.000000          2.000000   \n",
       "50%         3.000000          4.000000       4.000000          4.000000   \n",
       "75%         4.000000          4.000000       5.000000          4.000000   \n",
       "max         5.000000          5.000000       5.000000          5.000000   \n",
       "\n",
       "         Cleanliness  Food and Drink  In-flight Service  \\\n",
       "count  129880.000000   129880.000000      129880.000000   \n",
       "mean        3.286326        3.204774           3.642193   \n",
       "std         1.313682        1.329933           1.176669   \n",
       "min         0.000000        0.000000           0.000000   \n",
       "25%         2.000000        2.000000           3.000000   \n",
       "50%         3.000000        3.000000           4.000000   \n",
       "75%         4.000000        4.000000           5.000000   \n",
       "max         5.000000        5.000000           5.000000   \n",
       "\n",
       "       In-flight Wifi Service  In-flight Entertainment  Baggage Handling  \n",
       "count           129880.000000            129880.000000     129880.000000  \n",
       "mean                 2.728696                 3.358077          3.632114  \n",
       "std                  1.329340                 1.334049          1.180025  \n",
       "min                  0.000000                 0.000000          1.000000  \n",
       "25%                  2.000000                 2.000000          3.000000  \n",
       "50%                  3.000000                 4.000000          4.000000  \n",
       "75%                  4.000000                 4.000000          5.000000  \n",
       "max                  5.000000                 5.000000          5.000000  "
      ]
     },
     "execution_count": 96,
     "metadata": {},
     "output_type": "execute_result"
    }
   ],
   "source": [
    "df.describe()"
   ]
  },
  {
   "cell_type": "code",
   "execution_count": 97,
   "metadata": {},
   "outputs": [
    {
     "data": {
      "text/plain": [
       "ID                                          0\n",
       "Gender                                      0\n",
       "Age                                         0\n",
       "Customer Type                               0\n",
       "Type of Travel                              0\n",
       "Class                                       0\n",
       "Flight Distance                             0\n",
       "Departure Delay                             0\n",
       "Arrival Delay                             393\n",
       "Departure and Arrival Time Convenience      0\n",
       "Ease of Online Booking                      0\n",
       "Check-in Service                            0\n",
       "Online Boarding                             0\n",
       "Gate Location                               0\n",
       "On-board Service                            0\n",
       "Seat Comfort                                0\n",
       "Leg Room Service                            0\n",
       "Cleanliness                                 0\n",
       "Food and Drink                              0\n",
       "In-flight Service                           0\n",
       "In-flight Wifi Service                      0\n",
       "In-flight Entertainment                     0\n",
       "Baggage Handling                            0\n",
       "Satisfaction                                0\n",
       "dtype: int64"
      ]
     },
     "execution_count": 97,
     "metadata": {},
     "output_type": "execute_result"
    }
   ],
   "source": [
    "# null values in dataframe\n",
    "df.isnull().sum()"
   ]
  },
  {
   "cell_type": "code",
   "execution_count": 98,
   "metadata": {},
   "outputs": [
    {
     "data": {
      "text/plain": [
       "ID                                        129880\n",
       "Gender                                         2\n",
       "Age                                           75\n",
       "Customer Type                                  2\n",
       "Type of Travel                                 2\n",
       "Class                                          3\n",
       "Flight Distance                             3821\n",
       "Departure Delay                              466\n",
       "Arrival Delay                                472\n",
       "Departure and Arrival Time Convenience         6\n",
       "Ease of Online Booking                         6\n",
       "Check-in Service                               6\n",
       "Online Boarding                                6\n",
       "Gate Location                                  6\n",
       "On-board Service                               6\n",
       "Seat Comfort                                   6\n",
       "Leg Room Service                               6\n",
       "Cleanliness                                    6\n",
       "Food and Drink                                 6\n",
       "In-flight Service                              6\n",
       "In-flight Wifi Service                         6\n",
       "In-flight Entertainment                        6\n",
       "Baggage Handling                               5\n",
       "Satisfaction                                   2\n",
       "dtype: int64"
      ]
     },
     "execution_count": 98,
     "metadata": {},
     "output_type": "execute_result"
    }
   ],
   "source": [
    "#number of unique values\n",
    "df.nunique()"
   ]
  },
  {
   "cell_type": "code",
   "execution_count": 99,
   "metadata": {},
   "outputs": [
    {
     "data": {
      "text/plain": [
       "0"
      ]
     },
     "execution_count": 99,
     "metadata": {},
     "output_type": "execute_result"
    }
   ],
   "source": [
    "# duplicates in dataframe\n",
    "df.duplicated().sum()"
   ]
  },
  {
   "cell_type": "markdown",
   "metadata": {},
   "source": [
    "So far the dataset has a total of 129880 rows and 24 columns with no null and duplicate value"
   ]
  },
  {
   "cell_type": "markdown",
   "metadata": {},
   "source": [
    "## Cleaning Issues"
   ]
  },
  {
   "cell_type": "markdown",
   "metadata": {},
   "source": [
    "1. Arrival Delay column is float instead of int\n",
    "\n",
    "2. Drop rows with null value\n",
    "\n",
    "3. 'Check-in Service' column datatype is int instead of object\n",
    "\n",
    "4. 'Food and Drink' column datatype is int instead of object datatype\n",
    "\n",
    "5. 'In-flight Entertainment' column datatype is int instead of object datatype\n",
    "\n",
    "\n"
   ]
  },
  {
   "cell_type": "code",
   "execution_count": 100,
   "metadata": {},
   "outputs": [],
   "source": [
    "# creating a copy\n",
    "df_copy=df.copy()"
   ]
  },
  {
   "cell_type": "code",
   "execution_count": 101,
   "metadata": {},
   "outputs": [],
   "source": [
    "# drop rows with no value\n",
    "df_copy.dropna(inplace= True)"
   ]
  },
  {
   "cell_type": "code",
   "execution_count": 102,
   "metadata": {},
   "outputs": [
    {
     "data": {
      "text/plain": [
       "ID                                        0\n",
       "Gender                                    0\n",
       "Age                                       0\n",
       "Customer Type                             0\n",
       "Type of Travel                            0\n",
       "Class                                     0\n",
       "Flight Distance                           0\n",
       "Departure Delay                           0\n",
       "Arrival Delay                             0\n",
       "Departure and Arrival Time Convenience    0\n",
       "Ease of Online Booking                    0\n",
       "Check-in Service                          0\n",
       "Online Boarding                           0\n",
       "Gate Location                             0\n",
       "On-board Service                          0\n",
       "Seat Comfort                              0\n",
       "Leg Room Service                          0\n",
       "Cleanliness                               0\n",
       "Food and Drink                            0\n",
       "In-flight Service                         0\n",
       "In-flight Wifi Service                    0\n",
       "In-flight Entertainment                   0\n",
       "Baggage Handling                          0\n",
       "Satisfaction                              0\n",
       "dtype: int64"
      ]
     },
     "execution_count": 102,
     "metadata": {},
     "output_type": "execute_result"
    }
   ],
   "source": [
    "#confirming changes\n",
    "df_copy.isnull().sum()"
   ]
  },
  {
   "cell_type": "code",
   "execution_count": 103,
   "metadata": {},
   "outputs": [],
   "source": [
    "# converting arrival delay to int\n",
    "df_copy['Arrival Delay'] = df_copy['Arrival Delay'].astype(int)"
   ]
  },
  {
   "cell_type": "code",
   "execution_count": 104,
   "metadata": {},
   "outputs": [
    {
     "data": {
      "text/plain": [
       "dtype('int32')"
      ]
     },
     "execution_count": 104,
     "metadata": {},
     "output_type": "execute_result"
    }
   ],
   "source": [
    "# confirmation\n",
    "df_copy['Arrival Delay'].dtypes"
   ]
  },
  {
   "cell_type": "code",
   "execution_count": 105,
   "metadata": {},
   "outputs": [],
   "source": [
    "# converting check -in service to obj\n",
    "df_copy['Check-in Service']= df_copy['Check-in Service'].astype(object)"
   ]
  },
  {
   "cell_type": "code",
   "execution_count": 106,
   "metadata": {},
   "outputs": [
    {
     "data": {
      "text/plain": [
       "dtype('O')"
      ]
     },
     "execution_count": 106,
     "metadata": {},
     "output_type": "execute_result"
    }
   ],
   "source": [
    "# confirmation\n",
    "df_copy['Check-in Service'].dtypes"
   ]
  },
  {
   "cell_type": "code",
   "execution_count": 107,
   "metadata": {},
   "outputs": [],
   "source": [
    "# convert Food and Drink to obj\n",
    "df_copy['Food and Drink'] =df_copy['Food and Drink'].astype(object)"
   ]
  },
  {
   "cell_type": "code",
   "execution_count": 108,
   "metadata": {},
   "outputs": [
    {
     "data": {
      "text/plain": [
       "dtype('O')"
      ]
     },
     "execution_count": 108,
     "metadata": {},
     "output_type": "execute_result"
    }
   ],
   "source": [
    "# confirmation\n",
    "df_copy['Food and Drink'].dtypes"
   ]
  },
  {
   "cell_type": "code",
   "execution_count": 109,
   "metadata": {},
   "outputs": [],
   "source": [
    "# convert In-flight Entertainment to objectb\n",
    "df_copy['In-flight Entertainment']= df_copy['In-flight Entertainment'].astype(object)"
   ]
  },
  {
   "cell_type": "code",
   "execution_count": 110,
   "metadata": {},
   "outputs": [
    {
     "name": "stdout",
     "output_type": "stream",
     "text": [
      "<class 'pandas.core.frame.DataFrame'>\n",
      "Int64Index: 129487 entries, 0 to 129879\n",
      "Data columns (total 24 columns):\n",
      " #   Column                                  Non-Null Count   Dtype \n",
      "---  ------                                  --------------   ----- \n",
      " 0   ID                                      129487 non-null  int64 \n",
      " 1   Gender                                  129487 non-null  object\n",
      " 2   Age                                     129487 non-null  int64 \n",
      " 3   Customer Type                           129487 non-null  object\n",
      " 4   Type of Travel                          129487 non-null  object\n",
      " 5   Class                                   129487 non-null  object\n",
      " 6   Flight Distance                         129487 non-null  int64 \n",
      " 7   Departure Delay                         129487 non-null  int64 \n",
      " 8   Arrival Delay                           129487 non-null  int32 \n",
      " 9   Departure and Arrival Time Convenience  129487 non-null  int64 \n",
      " 10  Ease of Online Booking                  129487 non-null  int64 \n",
      " 11  Check-in Service                        129487 non-null  object\n",
      " 12  Online Boarding                         129487 non-null  int64 \n",
      " 13  Gate Location                           129487 non-null  int64 \n",
      " 14  On-board Service                        129487 non-null  int64 \n",
      " 15  Seat Comfort                            129487 non-null  int64 \n",
      " 16  Leg Room Service                        129487 non-null  int64 \n",
      " 17  Cleanliness                             129487 non-null  int64 \n",
      " 18  Food and Drink                          129487 non-null  object\n",
      " 19  In-flight Service                       129487 non-null  int64 \n",
      " 20  In-flight Wifi Service                  129487 non-null  int64 \n",
      " 21  In-flight Entertainment                 129487 non-null  object\n",
      " 22  Baggage Handling                        129487 non-null  int64 \n",
      " 23  Satisfaction                            129487 non-null  object\n",
      "dtypes: int32(1), int64(15), object(8)\n",
      "memory usage: 24.2+ MB\n"
     ]
    }
   ],
   "source": [
    "#confirming the cleaning process\n",
    "df_copy.info()"
   ]
  },
  {
   "cell_type": "markdown",
   "metadata": {},
   "source": [
    "### What is the structure of your dataset?\n",
    "\n",
    "> The Dataset has 129,880 rows and 24 columns\n",
    "\n",
    "### What is/are the main feature(s) of interest in your dataset?\n",
    "\n",
    "> The main features of interest very important in contributing t Airline passenger satisfaction is Type_of_Travel, Inflight_entertainment, Seat confort, Online_boarding\n",
    "\n",
    "### What features in the dataset do you think will help support your investigation into your feature(s) of interest?\n",
    "\n",
    "> Baggage haddling, Cleanliness, Flight_Distance etc"
   ]
  },
  {
   "cell_type": "markdown",
   "metadata": {},
   "source": [
    "## Univariate Exploration"
   ]
  },
  {
   "cell_type": "markdown",
   "metadata": {},
   "source": [
    "## What is the Age Distribution of the passengers?"
   ]
  },
  {
   "cell_type": "code",
   "execution_count": 111,
   "metadata": {},
   "outputs": [
    {
     "data": {
      "image/png": "[encoded data removed]",
      "text/plain": [
       "<Figure size 576x360 with 1 Axes>"
      ]
     },
     "metadata": {
      "needs_background": "light"
     },
     "output_type": "display_data"
    }
   ],
   "source": [
    "# histogram plot for Age distribution\n",
    "binsize = 5\n",
    "bins = np.arange(0, df_copy['Age'].max()+binsize, binsize)\n",
    "\n",
    "plt.figure(figsize=[8, 5])\n",
    "plt.hist(data = df_copy, x = 'Age', bins = bins)\n",
    "plt.xlabel('Age')\n",
    "plt.title(\"Passenger's Age\")\n",
    "plt.show()\n",
    "\n"
   ]
  },
  {
   "cell_type": "markdown",
   "metadata": {},
   "source": [
    "### Discuss the distribution(s) of your variable(s) of interest. Were there any unusual points? Did you need to perform any transformations?\n",
    "\n",
    "> From age 7-38 and from age 16-79 the number of neutral/dissatisfied passengers is high compared to satisfied passengers\n",
    "\n",
    "### Of the features you investigated, were there any unusual distributions? Did you perform any operations on the data to tidy, adjust, or change the form of the data? If so, why did you do this?\n",
    "\n",
    "> No outlier was detected."
   ]
  },
  {
   "cell_type": "markdown",
   "metadata": {},
   "source": [
    "## Were most passengers first time users or returning passengers?"
   ]
  },
  {
   "cell_type": "code",
   "execution_count": 112,
   "metadata": {},
   "outputs": [
    {
     "data": {
      "text/plain": [
       "Text(0.5, 1.0, 'Passenger Type')"
      ]
     },
     "execution_count": 112,
     "metadata": {},
     "output_type": "execute_result"
    },
    {
     "data": {
      "image/png": "[encoded data removed]",
      "text/plain": [
       "<Figure size 432x288 with 1 Axes>"
      ]
     },
     "metadata": {
      "needs_background": "light"
     },
     "output_type": "display_data"
    }
   ],
   "source": [
    "#plotting to check customer type (First time and Returning)\n",
    "default_color = sb.color_palette()[0]\n",
    "sb.countplot(data = df_copy, x = 'Customer Type', color = default_color)\n",
    "plt.xlabel('Customer Type')\n",
    "plt.title('Passenger Type')"
   ]
  },
  {
   "cell_type": "markdown",
   "metadata": {},
   "source": [
    "The chart shows high rate of Returning customers and low rate of first-time users"
   ]
  },
  {
   "cell_type": "markdown",
   "metadata": {},
   "source": [
    "## What gender of passengers booked the most?"
   ]
  },
  {
   "cell_type": "code",
   "execution_count": 113,
   "metadata": {},
   "outputs": [
    {
     "data": {
      "text/plain": [
       "Text(0.5, 1.0, 'Gender of Passengers')"
      ]
     },
     "execution_count": 113,
     "metadata": {},
     "output_type": "execute_result"
    },
    {
     "data": {
      "image/png": "[encoded data removed]",
      "text/plain": [
       "<Figure size 432x288 with 1 Axes>"
      ]
     },
     "metadata": {
      "needs_background": "light"
     },
     "output_type": "display_data"
    }
   ],
   "source": [
    "# Creating color scheme\n",
    "default_color = sb.color_palette()[0]\n",
    "sb.countplot(data = df_copy, x = 'Gender', color = default_color)\n",
    "plt.xlabel('Gender')\n",
    "plt.title('Gender of Passengers')"
   ]
  },
  {
   "cell_type": "markdown",
   "metadata": {},
   "source": [
    "from the chart above, it is observed that both male and female have close ratio"
   ]
  },
  {
   "cell_type": "markdown",
   "metadata": {},
   "source": [
    "## what class of passenger booked the most?"
   ]
  },
  {
   "cell_type": "code",
   "execution_count": 114,
   "metadata": {},
   "outputs": [
    {
     "data": {
      "text/plain": [
       "Text(0.5, 1.0, 'Passenger Class')"
      ]
     },
     "execution_count": 114,
     "metadata": {},
     "output_type": "execute_result"
    },
    {
     "data": {
      "image/png": "[encoded data removed]",
      "text/plain": [
       "<Figure size 432x288 with 1 Axes>"
      ]
     },
     "metadata": {
      "needs_background": "light"
     },
     "output_type": "display_data"
    }
   ],
   "source": [
    "#Passenger class\n",
    "default_color = sb.color_palette()[0]\n",
    "sb.countplot(data = df_copy, x = 'Class', color = default_color)\n",
    "plt.xlabel('Class')\n",
    "plt.title('Passenger Class')"
   ]
  },
  {
   "cell_type": "markdown",
   "metadata": {},
   "source": [
    "Most of the passengers booked Business class, Enonomy Class was booked the least"
   ]
  },
  {
   "cell_type": "markdown",
   "metadata": {},
   "source": [
    "## Passengers Satisfied or dissatisfied"
   ]
  },
  {
   "cell_type": "code",
   "execution_count": 115,
   "metadata": {},
   "outputs": [
    {
     "data": {
      "text/plain": [
       "Text(0.5, 1.0, 'Passenger Satisfaction')"
      ]
     },
     "execution_count": 115,
     "metadata": {},
     "output_type": "execute_result"
    },
    {
     "data": {
      "image/png": "[encoded data removed]",
      "text/plain": [
       "<Figure size 432x288 with 1 Axes>"
      ]
     },
     "metadata": {
      "needs_background": "light"
     },
     "output_type": "display_data"
    }
   ],
   "source": [
    "# Plot showing Passenger Satisfaction\n",
    "default_color = sb.color_palette()[0]\n",
    "sb.countplot(data = df_copy, x = 'Satisfaction', color = default_color)\n",
    "plt.xlabel('Satisfaction')\n",
    "plt.title('Passenger Satisfaction')"
   ]
  },
  {
   "cell_type": "markdown",
   "metadata": {},
   "source": [
    "The chart shows high rate of Dissatisfied/Neutral passengers"
   ]
  },
  {
   "cell_type": "markdown",
   "metadata": {},
   "source": [
    "## Bivariate Exploration\n",
    "\n"
   ]
  },
  {
   "cell_type": "code",
   "execution_count": 116,
   "metadata": {},
   "outputs": [],
   "source": [
    "numeric_vars = ['Age', 'Flight Distance', 'Departure Delay', 'Arrival Delay']\n",
    "categoric_vars = ['Customer Type', 'Type of Travel', 'Class', 'Satisfaction']"
   ]
  },
  {
   "cell_type": "code",
   "execution_count": 117,
   "metadata": {
    "scrolled": true
   },
   "outputs": [
    {
     "data": {
      "image/png": "[encoded data removed]",
      "text/plain": [
       "<Figure size 576x360 with 2 Axes>"
      ]
     },
     "metadata": {
      "needs_background": "light"
     },
     "output_type": "display_data"
    }
   ],
   "source": [
    "# correlation plot\n",
    "plt.figure(figsize = [8, 5])\n",
    "sb.heatmap(df_copy[numeric_vars].corr(), annot = True, fmt = '.3f',\n",
    "           cmap = 'vlag_r', center = 0)\n",
    "plt.show()"
   ]
  },
  {
   "cell_type": "code",
   "execution_count": 118,
   "metadata": {},
   "outputs": [
    {
     "name": "stdout",
     "output_type": "stream",
     "text": [
      "df_copy.shape= (129487, 24)\n",
      "diamonds_samp.shape= (5000, 24)\n"
     ]
    },
    {
     "data": {
      "text/plain": [
       "<seaborn.axisgrid.PairGrid at 0x18fb6a1e130>"
      ]
     },
     "execution_count": 118,
     "metadata": {},
     "output_type": "execute_result"
    },
    {
     "data": {
      "image/png": "[encoded data removed]",
      "text/plain": [
       "<Figure size 720x720 with 20 Axes>"
      ]
     },
     "metadata": {
      "needs_background": "light"
     },
     "output_type": "display_data"
    }
   ],
   "source": [
    "# plot matrix: sample 5000 diamonds so that plots are clearer and they render faster\n",
    "print(\"df_copy.shape=\",df_copy.shape)\n",
    "airline_samp = df_copy.sample(n=5000, replace = False)\n",
    "print(\"diamonds_samp.shape=\",airline_samp.shape)\n",
    "\n",
    "g = sb.PairGrid(data = airline_samp, vars = numeric_vars)\n",
    "g = g.map_diag(plt.hist, bins = 20);\n",
    "g.map_offdiag(plt.scatter)"
   ]
  },
  {
   "cell_type": "markdown",
   "metadata": {},
   "source": [
    "One can observe that Departure Delay and Arrival Delay are very much correlated with each other"
   ]
  },
  {
   "cell_type": "code",
   "execution_count": 119,
   "metadata": {},
   "outputs": [
    {
     "data": {
      "text/plain": [
       "<Figure size 720x720 with 0 Axes>"
      ]
     },
     "metadata": {},
     "output_type": "display_data"
    },
    {
     "data": {
      "image/png": "[encoded data removed]",
      "text/plain": [
       "<Figure size 1008x288 with 8 Axes>"
      ]
     },
     "metadata": {
      "needs_background": "light"
     },
     "output_type": "display_data"
    }
   ],
   "source": [
    "# plot matrix of numeric features against categorical features.\n",
    "# can use a larger sample since there are fewer plots and they're simpler in nature.\n",
    "\n",
    "diamonds_samp = df_copy.sample(n=10, replace = False)\n",
    "\n",
    "\n",
    "def boxgrid(x, y, **kwargs):\n",
    "    \"\"\" Quick hack for creating box plots with seaborn's PairGrid. \"\"\"\n",
    "    default_color = sb.color_palette()[0]\n",
    "    sb.boxplot(x=x, y=y, color=default_color)\n",
    "\n",
    "plt.figure(figsize = [10, 10])\n",
    "g = sb.PairGrid(data = diamonds_samp, y_vars = ['Flight Distance', 'Age'], x_vars = categoric_vars,\n",
    "                height = 2, aspect = 1.75)\n",
    "g.map(boxgrid)\n",
    "plt.show();"
   ]
  },
  {
   "cell_type": "markdown",
   "metadata": {},
   "source": [
    "## Multivariate Exploration\n",
    "\n",
    "> Create plots of three or more variables to investigate your data even\n",
    "further. Make sure that your investigations are justified, and follow from\n",
    "your work in the previous sections."
   ]
  },
  {
   "cell_type": "markdown",
   "metadata": {},
   "source": [
    "The median age of the passengers who uses business type of flight is below 40, whereas the first-time passengers are below 40"
   ]
  },
  {
   "cell_type": "code",
   "execution_count": 120,
   "metadata": {},
   "outputs": [
    {
     "data": {
      "image/png": "[encoded data removed]",
      "text/plain": [
       "<Figure size 576x576 with 3 Axes>"
      ]
     },
     "metadata": {
      "needs_background": "light"
     },
     "output_type": "display_data"
    }
   ],
   "source": [
    "# since there's only three subplots to create, using the full data should be fine.\n",
    "plt.figure(figsize = [8, 8])\n",
    "\n",
    "# subplot 1: Seat Comfort vs Satisfaction\n",
    "plt.subplot(3, 1, 1)\n",
    "sb.countplot(data = df_copy, x = 'Seat Comfort', hue = 'Satisfaction', palette = 'Blues')\n",
    "\n",
    "# subplot 2: Leg Room Service vs. Satisfaction\n",
    "ax = plt.subplot(3, 1, 2)\n",
    "sb.countplot(data = df_copy, x = 'Leg Room Service', hue = 'Satisfaction', palette = 'Blues')\n",
    "ax.legend(ncol = 2) # re-arrange legend to reduce overlapping\n",
    "\n",
    "# subplot 3: Food and Drink vs. Satisfaction\n",
    "ax = plt.subplot(3, 1, 3)\n",
    "sb.countplot(data = df_copy, x = 'Food and Drink', hue = 'Satisfaction', palette = 'Blues')\n",
    "ax.legend(ncol = 2) # re-arrange legend to remove overlapping\n",
    "\n",
    "\n",
    "plt.show()"
   ]
  },
  {
   "cell_type": "markdown",
   "metadata": {},
   "source": [
    "The rate of passengers with Seat-comfort, leg-room-service, food and drink above 4 tend to be more satisfied that passengers with less than 4"
   ]
  },
  {
   "cell_type": "code",
   "execution_count": 121,
   "metadata": {},
   "outputs": [
    {
     "data": {
      "image/png": "[encoded data removed]",
      "text/plain": [
       "<Figure size 576x432 with 1 Axes>"
      ]
     },
     "metadata": {
      "needs_background": "light"
     },
     "output_type": "display_data"
    }
   ],
   "source": [
    "# scatter plot for Departure Delay vs. Arrival Delay\n",
    "\n",
    "plt.figure(figsize = [8, 6])\n",
    "plt.scatter(data = df_copy, x = 'Departure Delay', y = 'Arrival Delay', alpha = 1/10)\n",
    "plt.xlabel('Departure Delay')\n",
    "plt.ylabel('Arrival Delay')\n",
    "plt.title('Scatter plot of Departure Delay vs. Arrival Delay')\n",
    "plt.show()\n"
   ]
  },
  {
   "cell_type": "code",
   "execution_count": 122,
   "metadata": {},
   "outputs": [
    {
     "data": {
      "image/png": "[encoded data removed]",
      "text/plain": [
       "<Figure size 576x432 with 1 Axes>"
      ]
     },
     "metadata": {
      "needs_background": "light"
     },
     "output_type": "display_data"
    }
   ],
   "source": [
    "# scatter plot of Flight Distance vs. Departure Delay\n",
    "\n",
    "plt.figure(figsize = [8, 6])\n",
    "plt.scatter(data = df_copy, x = 'Flight Distance', y = 'Departure Delay', alpha = 1/2)\n",
    "plt.xlabel('Flight Distance')\n",
    "plt.ylabel('Departure Delay')\n",
    "plt.title('Scatter plot of Flight Distance vs. Departure Delay')\n",
    "plt.show()"
   ]
  },
  {
   "cell_type": "markdown",
   "metadata": {},
   "source": [
    "The chart shows no correlation between flight distance and departure delay"
   ]
  },
  {
   "cell_type": "code",
   "execution_count": 123,
   "metadata": {},
   "outputs": [
    {
     "data": {
      "image/png": "[encoded data removed]",
      "text/plain": [
       "<Figure size 576x432 with 1 Axes>"
      ]
     },
     "metadata": {
      "needs_background": "light"
     },
     "output_type": "display_data"
    }
   ],
   "source": [
    "# scatter plot of Departure Delay vs. Arrival Delay\n",
    "\n",
    "plt.figure(figsize = [8, 6])\n",
    "#plt.hist(data = df_copy, x = 'Satisfaction', y = 'Customer Type', alpha = 1/2)\n",
    "sb.countplot(data = df_copy, x = 'Satisfaction', hue = 'Ease of Online Booking', palette = 'Blues')\n",
    "plt.xlabel('Satisfaction')\n",
    "plt.ylabel('Ease of Online Booking')\n",
    "plt.title('Satisfaction vs. Ease of Online Booking')\n",
    "plt.show()"
   ]
  },
  {
   "cell_type": "markdown",
   "metadata": {},
   "source": [
    "## Multivariate Exploration"
   ]
  },
  {
   "cell_type": "code",
   "execution_count": 124,
   "metadata": {},
   "outputs": [],
   "source": [
    "def cuberoot_trans(x, inverse = False):\n",
    "    \"\"\" quick function for computing cube root and cube operations \"\"\"\n",
    "    if not inverse:\n",
    "        return x ** (1/3)\n",
    "    else:\n",
    "        return x ** 3"
   ]
  },
  {
   "cell_type": "code",
   "execution_count": 125,
   "metadata": {},
   "outputs": [],
   "source": [
    "def hist2dgrid(x, y, **kwargs):\n",
    "    \"\"\" Quick hack for creating heat maps with seaborn's PairGrid. \"\"\"\n",
    "    palette = kwargs.pop('color')\n",
    "    bins_x = np.arange(cuberoot_trans(.2), cuberoot_trans(3.5)+.05, .05)\n",
    "    bins_y = np.arange(2.4, 4.3+0.1, 0.1)\n",
    "    plt.hist2d(x, y, cmap = palette, cmin = 0.5)"
   ]
  },
  {
   "cell_type": "code",
   "execution_count": 130,
   "metadata": {},
   "outputs": [
    {
     "data": {
      "image/png": "[encoded data removed]",
      "text/plain": [
       "<Figure size 648x216 with 2 Axes>"
      ]
     },
     "metadata": {
      "needs_background": "light"
     },
     "output_type": "display_data"
    }
   ],
   "source": [
    "# creating faceted heat maps\n",
    "g = sb.FacetGrid(data = df_copy, col = 'Satisfaction', col_wrap = 3, height = 3)\n",
    "g.map(hist2dgrid, 'Departure Delay', 'Arrival Delay', color = 'viridis_r')\n",
    "g.set_xlabels('Departure Delay')\n",
    "g.set_ylabels('Arrival Delay')\n",
    "# , bins = [bins_x, bins_y]\n",
    "# , xlim = [cuberoot_trans(.20), cuberoot_trans(3.5)]\n",
    "plt.show()"
   ]
  },
  {
   "cell_type": "markdown",
   "metadata": {},
   "source": [
    "The cloud of points moves towards the upper left of the plot as the departure delay level and arrival delay level increases.\n"
   ]
  },
  {
   "cell_type": "markdown",
   "metadata": {},
   "source": [
    "From the multivariate plot, It was observed that lesser numbers of the passengers were satisfied with high delay and arrival delay and from the heat map, more passengers were dissatified with arrival delay less than 500 minutes and departure delay less than 300 minutes"
   ]
  },
  {
   "cell_type": "markdown",
   "metadata": {},
   "source": [
    "## Storing Data"
   ]
  },
  {
   "cell_type": "code",
   "execution_count": 127,
   "metadata": {},
   "outputs": [],
   "source": [
    "# Saving the dataset to a new csv file\n",
    "df_copy.to_csv(\"airline_cleaned.csv\")"
   ]
  },
  {
   "cell_type": "markdown",
   "metadata": {},
   "source": [
    "## conclusion"
   ]
  },
  {
   "cell_type": "markdown",
   "metadata": {},
   "source": [
    "There was a strong correlation between the features 'Departure Delay' and Arrival Delay\n",
    "\n",
    "The number of men and women is almost the same\n",
    "\n",
    "majority of the airline's customers are repeat customers"
   ]
  }
 ],
 "metadata": {
  "kernelspec": {
   "display_name": "Python 3 (ipykernel)",
   "language": "python",
   "name": "python3"
  },
  "language_info": {
   "codemirror_mode": {
    "name": "ipython",
    "version": 3
   },
   "file_extension": ".py",
   "mimetype": "text/x-python",
   "name": "python",
   "nbconvert_exporter": "python",
   "pygments_lexer": "ipython3",
   "version": "3.9.12"
  }
 },
 "nbformat": 4,
 "nbformat_minor": 2
}
